{
 "cells": [
  {
   "cell_type": "markdown",
   "id": "01f3709f",
   "metadata": {},
   "source": [
    "https://chatgpt.com/share/69fa897b-1eed-4ba5-b99b-455e46f84157"
   ]
  },
  {
   "cell_type": "markdown",
   "id": "6aac818c",
   "metadata": {},
   "source": [
    "In our interaction, we explored various amusing and interesting datasets, specifically looking for those with missing values. I guided you through the process of finding datasets by searching relevant sources, leading to the selection of a **Diabetes Missing Data** dataset from GitHub.\n",
    "\n",
    "Next, I provided a Python code snippet using the `pandas` library, which can be used to count missing values in the dataset. The code loads the dataset from the URL, checks for missing values using the `isnull()` function, and displays the count for each column.\n",
    "\n",
    "Additionally, I shared a few other datasets you could explore for different use cases, including those related to jokes, Bigfoot sightings, and a squirrel census.\n",
    "\n",
    "This summary encapsulates our discussion about finding an interesting dataset with missing values and creating a Python solution to analyze it."
   ]
  },
  {
   "cell_type": "code",
   "execution_count": 1,
   "id": "57fccd76",
   "metadata": {},
   "outputs": [
    {
     "name": "stdout",
     "output_type": "stream",
     "text": [
      "Missing values count per column:\n",
      "Pregnant               0\n",
      "Glucose                5\n",
      "Diastolic_BP          35\n",
      "Skin_Fold            227\n",
      "Serum_Insulin        374\n",
      "BMI                   11\n",
      "Diabetes_Pedigree      0\n",
      "Age                    0\n",
      "Class                  0\n",
      "dtype: int64\n"
     ]
    }
   ],
   "source": [
    "import pandas as pd\n",
    "\n",
    "# Load the dataset from the CSV file\n",
    "url = \"https://github.com/YBI-Foundation/Dataset/raw/main/Diabetes%20Missing%20Data.csv\"\n",
    "df = pd.read_csv(url)\n",
    "\n",
    "# Display the count of missing values in each column\n",
    "missing_values = df.isnull().sum()\n",
    "print(\"Missing values count per column:\")\n",
    "print(missing_values)\n"
   ]
  },
  {
   "cell_type": "code",
   "execution_count": null,
   "id": "2b2dacac",
   "metadata": {},
   "outputs": [],
   "source": []
  }
 ],
 "metadata": {
  "kernelspec": {
   "display_name": "Python 3 (ipykernel)",
   "language": "python",
   "name": "python3"
  },
  "language_info": {
   "codemirror_mode": {
    "name": "ipython",
    "version": 3
   },
   "file_extension": ".py",
   "mimetype": "text/x-python",
   "name": "python",
   "nbconvert_exporter": "python",
   "pygments_lexer": "ipython3",
   "version": "3.11.6"
  }
 },
 "nbformat": 4,
 "nbformat_minor": 5
}
