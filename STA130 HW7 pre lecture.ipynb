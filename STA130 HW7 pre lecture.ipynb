{
 "cells": [
  {
   "cell_type": "markdown",
   "id": "4e6b9e5d",
   "metadata": {},
   "source": [
    "# STA130 HW 7 pre lecture\n",
    "\n",
    "### chatbot session link:https://chatgpt.com/share/67317097-d690-800e-bfb7-39ccfec1d33f\n",
    "### chatbot summary:\n",
    "Certainly! Here’s a structured summary of our interaction that could work well as an assignment overview:\n",
    "\n",
    "---\n",
    "\n",
    "**Assignment Summary: Exploring Linear Regression Techniques and Data Visualization in Python**\n",
    "\n",
    "**Objective**  \n",
    "The goal of this assignment is to understand the fundamental concepts of linear regression, specifically the differences between simple and multiple linear regression, how to interpret and apply interaction terms, and how to implement regression analysis and plot a linear equation using Python. \n",
    "\n",
    "**1. Simple vs. Multiple Linear Regression**  \n",
    "We started by discussing the distinction between simple linear regression and multiple linear regression:\n",
    "   - **Simple Linear Regression** models the relationship between one dependent variable and one independent variable.\n",
    "   - **Multiple Linear Regression** incorporates multiple independent variables, allowing a more complex and realistic representation of real-world scenarios.\n",
    "   - **Benefits of Multiple Linear Regression** include improved predictive power, realistic modeling, and the ability to analyze the effect of several variables simultaneously.\n",
    "\n",
    "**2. Interaction Terms in Multiple Linear Regression**  \n",
    "Next, we covered adding interaction terms to a multiple linear regression model:\n",
    "   - Interaction terms allow us to examine how the effect of one predictor on the dependent variable might vary depending on the value of another predictor.\n",
    "   - In Python, you can add an interaction term in `statsmodels` using the formula syntax: `y ~ x1 + x2 + x1:x2`.\n",
    "\n",
    "**3. Conducting Multiple Linear Regression Using `statsmodels` in Python**  \n",
    "We reviewed the steps for performing multiple linear regression using `statsmodels.formula.api.ols`:\n",
    "   - Define the model formula, specify the dataset, fit the model, and view a summary of the results.\n",
    "   - The summary output provides valuable statistical metrics, including coefficients, p-values, and R-squared values.\n",
    "\n",
    "**4. Troubleshooting `ValueError` in Linear Regression Models**  \n",
    "While implementing multiple linear regression, a `ValueError` was encountered due to a misinterpretation of the dependent variable. Solutions included:\n",
    "   - Ensuring all variables are numeric.\n",
    "   - Checking for missing or invalid values.\n",
    "   - Confirming column names match the formula exactly.\n",
    "\n",
    "**5. Plotting a Line Given an Equation Using Plotly Express**  \n",
    "Finally, we explored plotting a line given its equation using Plotly Express:\n",
    "   - Define the line equation (e.g., `y = m * x + b`) and generate x-y pairs.\n",
    "   - Use `plotly.express.line` to visualize the line, creating an interactive and customizable plot.\n",
    "\n",
    "**Conclusion**  \n",
    "This assignment introduced key concepts in linear regression, including modeling with multiple variables, interpreting interaction effects, and visualizing linear relationships. Through these exercises, we gained practical experience using Python’s `statsmodels` and `plotly` libraries to perform regression analysis and generate visualizations, essential skills for data science and statistical modeling.\n",
    "\n",
    "--- \n",
    "\n",
    "This summary captures the main points of our discussion and could serve as an assignment conclusion or report on linear regression and visualization techniques in Python. Let me know if you'd like more details on any section!"
   ]
  },
  {
   "cell_type": "markdown",
   "id": "df318de7",
   "metadata": {},
   "source": [
    "### 1. Explain succinctly in your own words (but working with a ChatBot if needed)..."
   ]
  },
  {
   "cell_type": "markdown",
   "id": "74da631b",
   "metadata": {},
   "source": [
    "#### 1. the difference between Simple Linear Regression and Multiple Linear Regression; and the benefit the latter provides over the former"
   ]
  },
  {
   "cell_type": "markdown",
   "id": "d0dbe941",
   "metadata": {},
   "source": [
    "simple linear regression works on single predictor, while multiple linear regression can work on multiple predictors\n",
    "\n",
    "multiple linear regression provides a more realistic and precise prediction of the population."
   ]
  },
  {
   "cell_type": "markdown",
   "id": "76ddc047",
   "metadata": {},
   "source": [
    "#### 2. the difference between using a continuous variable and an indicator variable in Simple Linear Regression; and these two linear forms"
   ]
  },
  {
   "cell_type": "markdown",
   "id": "b4fdcd16",
   "metadata": {},
   "source": [
    "the indicator variable is used in binary data, which provides a contrast between 2 groups.\n",
    "\n",
    "when using a continuous data, the form is as follows:\n",
    "\n",
    "$Y_i$ = $\\beta_0$ + $\\beta_1$ * $x_i$ + $\\epsilon_i$, where $\\epsilon_i$ belong to $N$($\\mu$, $\\sigma$)\n",
    "\n",
    "when using an indicator:\n",
    "\n",
    "$Y_i$ = $\\beta_0$ + $\\beta_1$ * $1_{[\"some\\ group\"]}(k_i)$ + $\\epsilon_i$, where $\\epsilon_i$ belong to $N$($\\mu$, $\\sigma$)"
   ]
  },
  {
   "cell_type": "markdown",
   "id": "f3025b47",
   "metadata": {},
   "source": [
    "#### 3. the change that happens in the behavior of the model (i.e., the expected nature of the data it models) when a single indicator variable is introduced alongside a continuous variable to create a Multiple Linear Regression; and these two linear forms (i.e., the Simple Linear Regression versus the Multiple Linear Regression)\n",
    "\n"
   ]
  },
  {
   "cell_type": "markdown",
   "id": "99a73f44",
   "metadata": {},
   "source": [
    "if another indicator is added to the simple linear regression model, the graph would instead look like a collection of lines where the slope of each line is the same while the intercepts are different.\n",
    "\n",
    "the simple linear regression\n",
    "\n",
    "$Y_i$ = $\\beta_0$ + $\\beta_1$ * $x_i$ + $\\epsilon_i$, where $\\epsilon_i$ belong to $N$($\\mu$, $\\sigma$)\n",
    "\n",
    "the regression model after adding another indicator(multiple linear regression)\n",
    "\n",
    "$Y_i$ = $\\beta_0$ + $\\beta_1$ * $x_i$ + $\\beta_2$ * $1_{[\"some\\ group\"]}(k_i)$ + $\\epsilon_i$, where $\\epsilon_i$ belong to $N$($\\mu$, $\\sigma$)"
   ]
  },
  {
   "cell_type": "markdown",
   "id": "9a8991ea",
   "metadata": {},
   "source": [
    "#### 4. the effect of adding an interaction between a continuous and an indicator variable in Multiple Linear Regression models; and this linear form"
   ]
  },
  {
   "cell_type": "markdown",
   "id": "3a60aaf7",
   "metadata": {},
   "source": [
    "it allows us to examine the relationship of how the relationship between the outcome and the predictor changes when the other predictor changes.\n",
    "\n",
    "$Y_i$ = $\\beta_0$ + $\\beta_1$ * $x_i$ + $\\beta_2$ * $1_{[\"some\\ group\"]}(k_i) * x_i$ + $\\epsilon_i$, where $\\epsilon_i$ belong to $N$($\\mu$, $\\sigma$)"
   ]
  },
  {
   "cell_type": "markdown",
   "id": "9b379b7f",
   "metadata": {},
   "source": [
    "#### 5. the behavior of a Multiple Linear Regression model (i.e., the expected nature of the data it models) based only on indicator variables derived from a non-binary categorical variable; this linear form; and the necessarily resulting binary variable encodings it utilizes"
   ]
  },
  {
   "cell_type": "markdown",
   "id": "1431712c",
   "metadata": {},
   "source": [
    "if the model based only on indicator variables, the graph is a collection of dots in different height\n",
    "\n",
    "$Y_i$ = $\\beta_0$ + $\\beta_1$ * $1_{[\"some\\ group\"]}(k_1i)$ + $\\beta_2$ * $1_{[\"some\\ group\"]}(k_2i)$ + $...$ + $\\epsilon_i$, where $\\epsilon_i$ belong to $N$($\\mu$, $\\sigma$)\n",
    "\n",
    "the whole model shows the difference between each group where $\\beta_0$ is the baseline group."
   ]
  },
  {
   "cell_type": "markdown",
   "id": "4700d8e3",
   "metadata": {},
   "source": [
    "### 2. Explain in your own words (but working with a ChatBot if needed) what the specific (outcome and predictor) variables are for the scenario below; whether or not any meaningful interactions might need to be taken into account when predicting the outcome; and provide the linear forms with and without the potential interactions that might need to be considered"
   ]
  },
  {
   "cell_type": "markdown",
   "id": "f1252f85",
   "metadata": {},
   "source": [
    "`Imagine a company that sells sports equipment. The company runs advertising campaigns on TV and online platforms. The effectiveness of the TV ad might depend on the amount spent on online advertising and vice versa, leading to an interaction effect between the two advertising mediums.`"
   ]
  },
  {
   "cell_type": "markdown",
   "id": "8ce3ad8f",
   "metadata": {},
   "source": [
    "variables: effectiveness of TV ad(outcome), amount spent on TV ads(predictor), effectiveness of online ads(outcome), amount spent on online ads(predictor)\n",
    "\n",
    "there's an interaction between the effectiveness of TV ad and amount spent on online ads, and vice versa\n",
    "\n",
    "denote $Y_{[TV]i}$ as the effectiveness of TV ads, and $Y_{[online]i}$ as the effectiveness of online ads,\n",
    "$x_{[TV]i}$ as amount spent on TV ads, and $x_{[online]i}$ as amount spent on online ads\n",
    "\n",
    "with interactions:\n",
    "\n",
    "$Y_{[TV]i}$ = $\\beta_0 + \\beta_1 x_{[TV]i} + \\beta_2 x_{[online]i}$\n",
    "\n",
    "$Y_{[online]i}$ = $\\beta_0 + \\beta_1 x_{[online]i} + \\beta_2 x_{[TV]i}$\n",
    "\n",
    "without interactions:\n",
    "\n",
    "$Y_{[TV]i}$ = $\\beta_0 + \\beta_1 x_{[TV]i}$\n",
    "\n",
    "$Y_{[online]i}$ = $\\beta_0 + \\beta_1 x_{[online]i}$"
   ]
  },
  {
   "cell_type": "markdown",
   "id": "3215c46e",
   "metadata": {},
   "source": [
    "#### 1. Explain how to use these two formulas to make predictions of the outcome, and give a high level explaination in general terms of the difference between predictions from the models with and without the interaction"
   ]
  },
  {
   "cell_type": "markdown",
   "id": "7904f614",
   "metadata": {},
   "source": [
    "to fit the model, fit the current data with the model. To make predictions, quantify the predictors and plug it into the formula\n",
    "\n",
    "the outcome in the models without prediction would have a low level of accuracy as it doesn't take the interaction into account, which is against the fact. Similarly, for models with interaction, the outcome is expected to be more precise."
   ]
  },
  {
   "cell_type": "markdown",
   "id": "39adba94",
   "metadata": {},
   "source": [
    "#### 2.  Explain how to update and use the implied two formulas to make predictions of the outcome if, rather than considering two continuous predictor variables, we instead suppose the advertisement budgets are simply categorized as either \"high\" or \"low\" (binary variables)"
   ]
  },
  {
   "cell_type": "markdown",
   "id": "2fe5f2e0",
   "metadata": {},
   "source": [
    "to update the model, simply change the continuous predictor into indicators, assign the data with \"high\" or \"low\" labels, and fit the model. \n",
    "\n",
    "to make predictions, assign the quantified predictor the label and subsitude into the model."
   ]
  },
  {
   "cell_type": "markdown",
   "id": "4e8104fc",
   "metadata": {},
   "source": [
    "### 3. Use smf to fit multiple linear regression models to the course project dataset from the canadian social connection survey"
   ]
  },
  {
   "cell_type": "code",
   "execution_count": 2,
   "id": "da3bfd47",
   "metadata": {},
   "outputs": [
    {
     "name": "stderr",
     "output_type": "stream",
     "text": [
      "/tmp/ipykernel_119/3144538297.py:5: DtypeWarning: Columns (408,1001,1002,1006,1007,1008,1080,1113,1115,1116,1117,1118,1119,1120,1121,1124,1125,1126,1127,1128,1213,1214,1215,1216,1217,1218,1342,1343,1344,1345,1346,1347,1348,1349,1390,1391,1393,1463,1549,1552,1555,1558,1561) have mixed types. Specify dtype option on import or set low_memory=False.\n",
      "  df = pd.read_csv(url).fillna('None')\n"
     ]
    }
   ],
   "source": [
    "import pandas as pd\n",
    "import statsmodels.formula.api as smf\n",
    "\n",
    "url = \"https://raw.githubusercontent.com/pointOfive/stat130chat130/refs/heads/main/CP/CSCS_data_anon.csv\"\n",
    "df = pd.read_csv(url).fillna('None')"
   ]
  },
  {
   "cell_type": "code",
   "execution_count": 3,
   "id": "c26bb54b",
   "metadata": {
    "scrolled": false
   },
   "outputs": [
    {
     "data": {
      "text/html": [
       "<div>\n",
       "<style scoped>\n",
       "    .dataframe tbody tr th:only-of-type {\n",
       "        vertical-align: middle;\n",
       "    }\n",
       "\n",
       "    .dataframe tbody tr th {\n",
       "        vertical-align: top;\n",
       "    }\n",
       "\n",
       "    .dataframe thead th {\n",
       "        text-align: right;\n",
       "    }\n",
       "</style>\n",
       "<table border=\"1\" class=\"dataframe\">\n",
       "  <thead>\n",
       "    <tr style=\"text-align: right;\">\n",
       "      <th></th>\n",
       "      <th>COVID_prevention_distancing</th>\n",
       "      <th>COVID_prevention_masks</th>\n",
       "      <th>COVID_prevention_hand_washing</th>\n",
       "      <th>COVID_prevention_reduce_people</th>\n",
       "      <th>COVID_prevention_avoid_trips</th>\n",
       "      <th>COVID_prevention_household</th>\n",
       "      <th>COVID_vaccinated</th>\n",
       "    </tr>\n",
       "  </thead>\n",
       "  <tbody>\n",
       "    <tr>\n",
       "      <th>0</th>\n",
       "      <td>Somewhat closely</td>\n",
       "      <td>Somewhat closely</td>\n",
       "      <td>Somewhat closely</td>\n",
       "      <td>Not at all</td>\n",
       "      <td>Not at all</td>\n",
       "      <td>Not at all</td>\n",
       "      <td>Yes, three or more doses</td>\n",
       "    </tr>\n",
       "    <tr>\n",
       "      <th>1</th>\n",
       "      <td>Very closely</td>\n",
       "      <td>Not at all</td>\n",
       "      <td>Very closely</td>\n",
       "      <td>Very closely</td>\n",
       "      <td>Very closely</td>\n",
       "      <td>Very closely</td>\n",
       "      <td>Yes, three or more doses</td>\n",
       "    </tr>\n",
       "    <tr>\n",
       "      <th>2</th>\n",
       "      <td>Somewhat closely</td>\n",
       "      <td>Not at all</td>\n",
       "      <td>Somewhat closely</td>\n",
       "      <td>Not at all</td>\n",
       "      <td>Not at all</td>\n",
       "      <td>Somewhat closely</td>\n",
       "      <td>Yes, three or more doses</td>\n",
       "    </tr>\n",
       "    <tr>\n",
       "      <th>3</th>\n",
       "      <td>Not at all</td>\n",
       "      <td>Not at all</td>\n",
       "      <td>Somewhat closely</td>\n",
       "      <td>Not at all</td>\n",
       "      <td>Not at all</td>\n",
       "      <td>Not at all</td>\n",
       "      <td>Yes, three or more doses</td>\n",
       "    </tr>\n",
       "    <tr>\n",
       "      <th>4</th>\n",
       "      <td>Very closely</td>\n",
       "      <td>Very closely</td>\n",
       "      <td>Very closely</td>\n",
       "      <td>Very closely</td>\n",
       "      <td>Very closely</td>\n",
       "      <td>Somewhat closely</td>\n",
       "      <td>Yes, one dose</td>\n",
       "    </tr>\n",
       "    <tr>\n",
       "      <th>...</th>\n",
       "      <td>...</td>\n",
       "      <td>...</td>\n",
       "      <td>...</td>\n",
       "      <td>...</td>\n",
       "      <td>...</td>\n",
       "      <td>...</td>\n",
       "      <td>...</td>\n",
       "    </tr>\n",
       "    <tr>\n",
       "      <th>11426</th>\n",
       "      <td>Somewhat closely</td>\n",
       "      <td>Not at all</td>\n",
       "      <td>Somewhat closely</td>\n",
       "      <td>Somewhat closely</td>\n",
       "      <td>Very closely</td>\n",
       "      <td>Not at all</td>\n",
       "      <td>Yes, three or more doses</td>\n",
       "    </tr>\n",
       "    <tr>\n",
       "      <th>11427</th>\n",
       "      <td>Not at all</td>\n",
       "      <td>Not at all</td>\n",
       "      <td>Very closely</td>\n",
       "      <td>Not at all</td>\n",
       "      <td>Not at all</td>\n",
       "      <td>Not at all</td>\n",
       "      <td>Yes, three or more doses</td>\n",
       "    </tr>\n",
       "    <tr>\n",
       "      <th>11428</th>\n",
       "      <td>Somewhat closely</td>\n",
       "      <td>Somewhat closely</td>\n",
       "      <td>Very closely</td>\n",
       "      <td>Somewhat closely</td>\n",
       "      <td>Somewhat closely</td>\n",
       "      <td>Somewhat closely</td>\n",
       "      <td>Yes, two doses</td>\n",
       "    </tr>\n",
       "    <tr>\n",
       "      <th>11429</th>\n",
       "      <td>Not at all</td>\n",
       "      <td>Not at all</td>\n",
       "      <td>Very closely</td>\n",
       "      <td>Somewhat closely</td>\n",
       "      <td>Not at all</td>\n",
       "      <td>Not at all</td>\n",
       "      <td>Yes, two doses</td>\n",
       "    </tr>\n",
       "    <tr>\n",
       "      <th>11430</th>\n",
       "      <td>Very closely</td>\n",
       "      <td>Very closely</td>\n",
       "      <td>Very closely</td>\n",
       "      <td>Very closely</td>\n",
       "      <td>Very closely</td>\n",
       "      <td>Very closely</td>\n",
       "      <td>No</td>\n",
       "    </tr>\n",
       "  </tbody>\n",
       "</table>\n",
       "<p>11431 rows × 7 columns</p>\n",
       "</div>"
      ],
      "text/plain": [
       "      COVID_prevention_distancing COVID_prevention_masks  \\\n",
       "0                Somewhat closely       Somewhat closely   \n",
       "1                    Very closely             Not at all   \n",
       "2                Somewhat closely             Not at all   \n",
       "3                      Not at all             Not at all   \n",
       "4                    Very closely           Very closely   \n",
       "...                           ...                    ...   \n",
       "11426            Somewhat closely             Not at all   \n",
       "11427                  Not at all             Not at all   \n",
       "11428            Somewhat closely       Somewhat closely   \n",
       "11429                  Not at all             Not at all   \n",
       "11430                Very closely           Very closely   \n",
       "\n",
       "      COVID_prevention_hand_washing COVID_prevention_reduce_people  \\\n",
       "0                  Somewhat closely                     Not at all   \n",
       "1                      Very closely                   Very closely   \n",
       "2                  Somewhat closely                     Not at all   \n",
       "3                  Somewhat closely                     Not at all   \n",
       "4                      Very closely                   Very closely   \n",
       "...                             ...                            ...   \n",
       "11426              Somewhat closely               Somewhat closely   \n",
       "11427                  Very closely                     Not at all   \n",
       "11428                  Very closely               Somewhat closely   \n",
       "11429                  Very closely               Somewhat closely   \n",
       "11430                  Very closely                   Very closely   \n",
       "\n",
       "      COVID_prevention_avoid_trips COVID_prevention_household  \\\n",
       "0                       Not at all                 Not at all   \n",
       "1                     Very closely               Very closely   \n",
       "2                       Not at all           Somewhat closely   \n",
       "3                       Not at all                 Not at all   \n",
       "4                     Very closely           Somewhat closely   \n",
       "...                            ...                        ...   \n",
       "11426                 Very closely                 Not at all   \n",
       "11427                   Not at all                 Not at all   \n",
       "11428             Somewhat closely           Somewhat closely   \n",
       "11429                   Not at all                 Not at all   \n",
       "11430                 Very closely               Very closely   \n",
       "\n",
       "               COVID_vaccinated  \n",
       "0      Yes, three or more doses  \n",
       "1      Yes, three or more doses  \n",
       "2      Yes, three or more doses  \n",
       "3      Yes, three or more doses  \n",
       "4                 Yes, one dose  \n",
       "...                         ...  \n",
       "11426  Yes, three or more doses  \n",
       "11427  Yes, three or more doses  \n",
       "11428            Yes, two doses  \n",
       "11429            Yes, two doses  \n",
       "11430                        No  \n",
       "\n",
       "[11431 rows x 7 columns]"
      ]
     },
     "execution_count": 3,
     "metadata": {},
     "output_type": "execute_result"
    }
   ],
   "source": [
    "original_data = df.loc[:, \"COVID_prevention_distancing\":\"COVID_vaccinated\"]\n",
    "original_data"
   ]
  },
  {
   "cell_type": "code",
   "execution_count": 4,
   "id": "bea3f319",
   "metadata": {},
   "outputs": [
    {
     "data": {
      "text/plain": [
       "COVID_prevention_distancing    float64\n",
       "COVID_prevention_masks         float64\n",
       "COVID_vaccinated               float64\n",
       "dtype: object"
      ]
     },
     "execution_count": 4,
     "metadata": {},
     "output_type": "execute_result"
    }
   ],
   "source": [
    "map_rule = {\n",
    "    \"Very closely\":3,\n",
    "    \"Somewhat closely\":2,\n",
    "    \"Not at all\":1,\n",
    "    \"Yes, three or more doses\":3,\n",
    "    \"Yes, two doses\":2,\n",
    "    \"Yes, one dose\":1,\n",
    "    \"No\":0\n",
    "}\n",
    "data = original_data.replace(map_rule)\n",
    "data_copy = data.loc[:,[\"COVID_prevention_distancing\",\"COVID_prevention_masks\",\"COVID_vaccinated\"]]\n",
    "\n",
    "data_copy['COVID_vaccinated'] = pd.to_numeric(data_copy['COVID_vaccinated'], errors='coerce')\n",
    "data_copy['COVID_prevention_distancing'] = pd.to_numeric(data_copy['COVID_prevention_distancing'], errors='coerce')\n",
    "data_copy['COVID_prevention_masks'] = pd.to_numeric(data_copy['COVID_prevention_masks'], errors='coerce')\n",
    "data_copy.dtypes"
   ]
  },
  {
   "cell_type": "code",
   "execution_count": 5,
   "id": "e10aefc1",
   "metadata": {
    "scrolled": false
   },
   "outputs": [
    {
     "data": {
      "text/html": [
       "<table class=\"simpletable\">\n",
       "<caption>OLS Regression Results</caption>\n",
       "<tr>\n",
       "  <th>Dep. Variable:</th>    <td>COVID_vaccinated</td> <th>  R-squared:         </th> <td>   0.042</td> \n",
       "</tr>\n",
       "<tr>\n",
       "  <th>Model:</th>                   <td>OLS</td>       <th>  Adj. R-squared:    </th> <td>   0.042</td> \n",
       "</tr>\n",
       "<tr>\n",
       "  <th>Method:</th>             <td>Least Squares</td>  <th>  F-statistic:       </th> <td>   165.7</td> \n",
       "</tr>\n",
       "<tr>\n",
       "  <th>Date:</th>             <td>Mon, 11 Nov 2024</td> <th>  Prob (F-statistic):</th> <td>3.65e-71</td> \n",
       "</tr>\n",
       "<tr>\n",
       "  <th>Time:</th>                 <td>02:51:08</td>     <th>  Log-Likelihood:    </th> <td> -10920.</td> \n",
       "</tr>\n",
       "<tr>\n",
       "  <th>No. Observations:</th>      <td>  7510</td>      <th>  AIC:               </th> <td>2.185e+04</td>\n",
       "</tr>\n",
       "<tr>\n",
       "  <th>Df Residuals:</th>          <td>  7507</td>      <th>  BIC:               </th> <td>2.187e+04</td>\n",
       "</tr>\n",
       "<tr>\n",
       "  <th>Df Model:</th>              <td>     2</td>      <th>                     </th>     <td> </td>    \n",
       "</tr>\n",
       "<tr>\n",
       "  <th>Covariance Type:</th>      <td>nonrobust</td>    <th>                     </th>     <td> </td>    \n",
       "</tr>\n",
       "</table>\n",
       "<table class=\"simpletable\">\n",
       "<tr>\n",
       "               <td></td>                  <th>coef</th>     <th>std err</th>      <th>t</th>      <th>P>|t|</th>  <th>[0.025</th>    <th>0.975]</th>  \n",
       "</tr>\n",
       "<tr>\n",
       "  <th>Intercept</th>                   <td>    2.5175</td> <td>    0.041</td> <td>   61.988</td> <td> 0.000</td> <td>    2.438</td> <td>    2.597</td>\n",
       "</tr>\n",
       "<tr>\n",
       "  <th>COVID_prevention_distancing</th> <td>   -0.0985</td> <td>    0.021</td> <td>   -4.734</td> <td> 0.000</td> <td>   -0.139</td> <td>   -0.058</td>\n",
       "</tr>\n",
       "<tr>\n",
       "  <th>COVID_prevention_masks</th>      <td>   -0.2017</td> <td>    0.019</td> <td>  -10.888</td> <td> 0.000</td> <td>   -0.238</td> <td>   -0.165</td>\n",
       "</tr>\n",
       "</table>\n",
       "<table class=\"simpletable\">\n",
       "<tr>\n",
       "  <th>Omnibus:</th>       <td>1063.650</td> <th>  Durbin-Watson:     </th> <td>   2.007</td>\n",
       "</tr>\n",
       "<tr>\n",
       "  <th>Prob(Omnibus):</th>  <td> 0.000</td>  <th>  Jarque-Bera (JB):  </th> <td> 444.783</td>\n",
       "</tr>\n",
       "<tr>\n",
       "  <th>Skew:</th>           <td>-0.410</td>  <th>  Prob(JB):          </th> <td>2.61e-97</td>\n",
       "</tr>\n",
       "<tr>\n",
       "  <th>Kurtosis:</th>       <td> 2.134</td>  <th>  Cond. No.          </th> <td>    12.3</td>\n",
       "</tr>\n",
       "</table><br/><br/>Notes:<br/>[1] Standard Errors assume that the covariance matrix of the errors is correctly specified."
      ],
      "text/latex": [
       "\\begin{center}\n",
       "\\begin{tabular}{lclc}\n",
       "\\toprule\n",
       "\\textbf{Dep. Variable:}                & COVID\\_vaccinated & \\textbf{  R-squared:         } &     0.042   \\\\\n",
       "\\textbf{Model:}                        &        OLS        & \\textbf{  Adj. R-squared:    } &     0.042   \\\\\n",
       "\\textbf{Method:}                       &   Least Squares   & \\textbf{  F-statistic:       } &     165.7   \\\\\n",
       "\\textbf{Date:}                         &  Mon, 11 Nov 2024 & \\textbf{  Prob (F-statistic):} &  3.65e-71   \\\\\n",
       "\\textbf{Time:}                         &      02:51:08     & \\textbf{  Log-Likelihood:    } &   -10920.   \\\\\n",
       "\\textbf{No. Observations:}             &         7510      & \\textbf{  AIC:               } & 2.185e+04   \\\\\n",
       "\\textbf{Df Residuals:}                 &         7507      & \\textbf{  BIC:               } & 2.187e+04   \\\\\n",
       "\\textbf{Df Model:}                     &            2      & \\textbf{                     } &             \\\\\n",
       "\\textbf{Covariance Type:}              &     nonrobust     & \\textbf{                     } &             \\\\\n",
       "\\bottomrule\n",
       "\\end{tabular}\n",
       "\\begin{tabular}{lcccccc}\n",
       "                                       & \\textbf{coef} & \\textbf{std err} & \\textbf{t} & \\textbf{P$> |$t$|$} & \\textbf{[0.025} & \\textbf{0.975]}  \\\\\n",
       "\\midrule\n",
       "\\textbf{Intercept}                     &       2.5175  &        0.041     &    61.988  &         0.000        &        2.438    &        2.597     \\\\\n",
       "\\textbf{COVID\\_prevention\\_distancing} &      -0.0985  &        0.021     &    -4.734  &         0.000        &       -0.139    &       -0.058     \\\\\n",
       "\\textbf{COVID\\_prevention\\_masks}      &      -0.2017  &        0.019     &   -10.888  &         0.000        &       -0.238    &       -0.165     \\\\\n",
       "\\bottomrule\n",
       "\\end{tabular}\n",
       "\\begin{tabular}{lclc}\n",
       "\\textbf{Omnibus:}       & 1063.650 & \\textbf{  Durbin-Watson:     } &    2.007  \\\\\n",
       "\\textbf{Prob(Omnibus):} &   0.000  & \\textbf{  Jarque-Bera (JB):  } &  444.783  \\\\\n",
       "\\textbf{Skew:}          &  -0.410  & \\textbf{  Prob(JB):          } & 2.61e-97  \\\\\n",
       "\\textbf{Kurtosis:}      &   2.134  & \\textbf{  Cond. No.          } &     12.3  \\\\\n",
       "\\bottomrule\n",
       "\\end{tabular}\n",
       "%\\caption{OLS Regression Results}\n",
       "\\end{center}\n",
       "\n",
       "Notes: \\newline\n",
       " [1] Standard Errors assume that the covariance matrix of the errors is correctly specified."
      ],
      "text/plain": [
       "<class 'statsmodels.iolib.summary.Summary'>\n",
       "\"\"\"\n",
       "                            OLS Regression Results                            \n",
       "==============================================================================\n",
       "Dep. Variable:       COVID_vaccinated   R-squared:                       0.042\n",
       "Model:                            OLS   Adj. R-squared:                  0.042\n",
       "Method:                 Least Squares   F-statistic:                     165.7\n",
       "Date:                Mon, 11 Nov 2024   Prob (F-statistic):           3.65e-71\n",
       "Time:                        02:51:08   Log-Likelihood:                -10920.\n",
       "No. Observations:                7510   AIC:                         2.185e+04\n",
       "Df Residuals:                    7507   BIC:                         2.187e+04\n",
       "Df Model:                           2                                         \n",
       "Covariance Type:            nonrobust                                         \n",
       "===============================================================================================\n",
       "                                  coef    std err          t      P>|t|      [0.025      0.975]\n",
       "-----------------------------------------------------------------------------------------------\n",
       "Intercept                       2.5175      0.041     61.988      0.000       2.438       2.597\n",
       "COVID_prevention_distancing    -0.0985      0.021     -4.734      0.000      -0.139      -0.058\n",
       "COVID_prevention_masks         -0.2017      0.019    -10.888      0.000      -0.238      -0.165\n",
       "==============================================================================\n",
       "Omnibus:                     1063.650   Durbin-Watson:                   2.007\n",
       "Prob(Omnibus):                  0.000   Jarque-Bera (JB):              444.783\n",
       "Skew:                          -0.410   Prob(JB):                     2.61e-97\n",
       "Kurtosis:                       2.134   Cond. No.                         12.3\n",
       "==============================================================================\n",
       "\n",
       "Notes:\n",
       "[1] Standard Errors assume that the covariance matrix of the errors is correctly specified.\n",
       "\"\"\""
      ]
     },
     "execution_count": 5,
     "metadata": {},
     "output_type": "execute_result"
    }
   ],
   "source": [
    "s = \"COVID_vaccinated ~ COVID_prevention_distancing + COVID_prevention_masks\"\n",
    "#  + COVID_prevention_hand_washing + COVID_prevention_reduce_people + COVID_prevention_avoid_trips + COVID_prevention_household\n",
    "model = smf.ols(formula=s, data=data_copy).fit()\n",
    "\n",
    "result = model.summary()\n",
    "result"
   ]
  },
  {
   "cell_type": "markdown",
   "id": "41ad632b",
   "metadata": {},
   "source": [
    "the model measures the relationship between COVID_vaccinated and 2 categorical variable COVID_prevention_distancing and COVID_prevention_masks. To predict, plug in the corresponding categorical variable.\n",
    "\n",
    "Since the p-value < 0.001, we have strong evidence against the statement that there are no relationship between COVID_vaccinated and the 2 categorical variable"
   ]
  },
  {
   "cell_type": "code",
   "execution_count": 7,
   "id": "cefed2dd",
   "metadata": {},
   "outputs": [
    {
     "data": {
      "image/png": "[encoded data removed]"
     },
     "metadata": {},
     "output_type": "display_data"
    }
   ],
   "source": [
    "import plotly.express as px\n",
    "\n",
    "l1 = pd.DataFrame(data_copy[\"COVID_prevention_distancing\"].copy())\n",
    "l1['predicted'] = 2.5175 + (-0.0985) * data_copy[\"COVID_prevention_distancing\"]\n",
    "\n",
    "fig = px.scatter(l1, x=\"COVID_prevention_distancing\", y=\"predicted\")\n",
    "fig.show(renderer=\"png\")"
   ]
  },
  {
   "cell_type": "code",
   "execution_count": 8,
   "id": "52c3a2e4",
   "metadata": {},
   "outputs": [
    {
     "data": {
      "image/png": "[encoded data removed]"
     },
     "metadata": {},
     "output_type": "display_data"
    }
   ],
   "source": [
    "l2 = pd.DataFrame(data_copy[\"COVID_prevention_masks\"].copy())\n",
    "l2['predicted'] = 2.5175 + (-0.2017) * data_copy[\"COVID_prevention_masks\"]\n",
    "\n",
    "fig = px.scatter(l2, x=\"COVID_prevention_masks\", y=\"predicted\")\n",
    "fig.show(renderer=\"png\")"
   ]
  },
  {
   "cell_type": "markdown",
   "id": "540be67b",
   "metadata": {},
   "source": [
    "### 4. Explain the apparent contradiction between the factual statements regarding the fit below that \"the model only explains 17.6% of the variability in the data\" while at the same time \"many of the coefficients are larger than 10 while having strong or very strong evidence against the null hypothesis of 'no effect'\""
   ]
  },
  {
   "cell_type": "markdown",
   "id": "37daa8fb",
   "metadata": {},
   "source": [
    "\"the model only explains 17.6% of the variability in the data\": this statement measures the extent of the data being fitted and the accuracy of the model for prediction.\n",
    "\n",
    "\"many of the coefficients are larger than 10 while having strong or very strong evidence against the null hypothesis of 'no effect'\":\n",
    "this statement is a conclusion of a hypothesis test and reveals that most of the coefficients are larger than 10 "
   ]
  },
  {
   "cell_type": "code",
   "execution_count": null,
   "id": "e0c77ee3",
   "metadata": {},
   "outputs": [],
   "source": []
  }
 ],
 "metadata": {
  "kernelspec": {
   "display_name": "Python 3 (ipykernel)",
   "language": "python",
   "name": "python3"
  },
  "language_info": {
   "codemirror_mode": {
    "name": "ipython",
    "version": 3
   },
   "file_extension": ".py",
   "mimetype": "text/x-python",
   "name": "python",
   "nbconvert_exporter": "python",
   "pygments_lexer": "ipython3",
   "version": "3.11.6"
  }
 },
 "nbformat": 4,
 "nbformat_minor": 5
}
